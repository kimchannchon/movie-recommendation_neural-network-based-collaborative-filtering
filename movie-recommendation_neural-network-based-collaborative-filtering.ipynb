{
 "cells": [
  {
   "cell_type": "code",
   "execution_count": 1,
   "metadata": {},
   "outputs": [
    {
     "data": {
      "text/html": [
       "<div>\n",
       "<style scoped>\n",
       "    .dataframe tbody tr th:only-of-type {\n",
       "        vertical-align: middle;\n",
       "    }\n",
       "\n",
       "    .dataframe tbody tr th {\n",
       "        vertical-align: top;\n",
       "    }\n",
       "\n",
       "    .dataframe thead th {\n",
       "        text-align: right;\n",
       "    }\n",
       "</style>\n",
       "<table border=\"1\" class=\"dataframe\">\n",
       "  <thead>\n",
       "    <tr style=\"text-align: right;\">\n",
       "      <th></th>\n",
       "      <th>movieId</th>\n",
       "      <th>title</th>\n",
       "      <th>genres</th>\n",
       "    </tr>\n",
       "  </thead>\n",
       "  <tbody>\n",
       "    <tr>\n",
       "      <th>0</th>\n",
       "      <td>1</td>\n",
       "      <td>Toy Story (1995)</td>\n",
       "      <td>Adventure|Animation|Children|Comedy|Fantasy</td>\n",
       "    </tr>\n",
       "    <tr>\n",
       "      <th>1</th>\n",
       "      <td>2</td>\n",
       "      <td>Jumanji (1995)</td>\n",
       "      <td>Adventure|Children|Fantasy</td>\n",
       "    </tr>\n",
       "    <tr>\n",
       "      <th>2</th>\n",
       "      <td>3</td>\n",
       "      <td>Grumpier Old Men (1995)</td>\n",
       "      <td>Comedy|Romance</td>\n",
       "    </tr>\n",
       "    <tr>\n",
       "      <th>3</th>\n",
       "      <td>4</td>\n",
       "      <td>Waiting to Exhale (1995)</td>\n",
       "      <td>Comedy|Drama|Romance</td>\n",
       "    </tr>\n",
       "    <tr>\n",
       "      <th>4</th>\n",
       "      <td>5</td>\n",
       "      <td>Father of the Bride Part II (1995)</td>\n",
       "      <td>Comedy</td>\n",
       "    </tr>\n",
       "  </tbody>\n",
       "</table>\n",
       "</div>"
      ],
      "text/plain": [
       "   movieId                               title  \\\n",
       "0        1                    Toy Story (1995)   \n",
       "1        2                      Jumanji (1995)   \n",
       "2        3             Grumpier Old Men (1995)   \n",
       "3        4            Waiting to Exhale (1995)   \n",
       "4        5  Father of the Bride Part II (1995)   \n",
       "\n",
       "                                        genres  \n",
       "0  Adventure|Animation|Children|Comedy|Fantasy  \n",
       "1                   Adventure|Children|Fantasy  \n",
       "2                               Comedy|Romance  \n",
       "3                         Comedy|Drama|Romance  \n",
       "4                                       Comedy  "
      ]
     },
     "execution_count": 1,
     "metadata": {},
     "output_type": "execute_result"
    }
   ],
   "source": [
    "import pandas as pd\n",
    "\n",
    "# Load the datasets\n",
    "movies_df = pd.read_csv('movies.csv')\n",
    "ratings_df = pd.read_csv('ratings.csv')\n",
    "\n",
    "# Display the first few rows of each dataframe to understand their structure\n",
    "movies_df.head()"
   ]
  },
  {
   "cell_type": "code",
   "execution_count": 2,
   "metadata": {},
   "outputs": [
    {
     "data": {
      "text/html": [
       "<div>\n",
       "<style scoped>\n",
       "    .dataframe tbody tr th:only-of-type {\n",
       "        vertical-align: middle;\n",
       "    }\n",
       "\n",
       "    .dataframe tbody tr th {\n",
       "        vertical-align: top;\n",
       "    }\n",
       "\n",
       "    .dataframe thead th {\n",
       "        text-align: right;\n",
       "    }\n",
       "</style>\n",
       "<table border=\"1\" class=\"dataframe\">\n",
       "  <thead>\n",
       "    <tr style=\"text-align: right;\">\n",
       "      <th></th>\n",
       "      <th>userId</th>\n",
       "      <th>movieId</th>\n",
       "      <th>rating</th>\n",
       "      <th>timestamp</th>\n",
       "    </tr>\n",
       "  </thead>\n",
       "  <tbody>\n",
       "    <tr>\n",
       "      <th>0</th>\n",
       "      <td>1</td>\n",
       "      <td>1</td>\n",
       "      <td>4.0</td>\n",
       "      <td>964982703</td>\n",
       "    </tr>\n",
       "    <tr>\n",
       "      <th>1</th>\n",
       "      <td>1</td>\n",
       "      <td>3</td>\n",
       "      <td>4.0</td>\n",
       "      <td>964981247</td>\n",
       "    </tr>\n",
       "    <tr>\n",
       "      <th>2</th>\n",
       "      <td>1</td>\n",
       "      <td>6</td>\n",
       "      <td>4.0</td>\n",
       "      <td>964982224</td>\n",
       "    </tr>\n",
       "    <tr>\n",
       "      <th>3</th>\n",
       "      <td>1</td>\n",
       "      <td>47</td>\n",
       "      <td>5.0</td>\n",
       "      <td>964983815</td>\n",
       "    </tr>\n",
       "    <tr>\n",
       "      <th>4</th>\n",
       "      <td>1</td>\n",
       "      <td>50</td>\n",
       "      <td>5.0</td>\n",
       "      <td>964982931</td>\n",
       "    </tr>\n",
       "  </tbody>\n",
       "</table>\n",
       "</div>"
      ],
      "text/plain": [
       "   userId  movieId  rating  timestamp\n",
       "0       1        1     4.0  964982703\n",
       "1       1        3     4.0  964981247\n",
       "2       1        6     4.0  964982224\n",
       "3       1       47     5.0  964983815\n",
       "4       1       50     5.0  964982931"
      ]
     },
     "execution_count": 2,
     "metadata": {},
     "output_type": "execute_result"
    }
   ],
   "source": [
    "ratings_df.head()"
   ]
  },
  {
   "cell_type": "code",
   "execution_count": 3,
   "metadata": {},
   "outputs": [
    {
     "name": "stdout",
     "output_type": "stream",
     "text": [
      "<class 'pandas.core.frame.DataFrame'>\n",
      "RangeIndex: 9742 entries, 0 to 9741\n",
      "Data columns (total 3 columns):\n",
      " #   Column   Non-Null Count  Dtype \n",
      "---  ------   --------------  ----- \n",
      " 0   movieId  9742 non-null   int64 \n",
      " 1   title    9742 non-null   object\n",
      " 2   genres   9742 non-null   object\n",
      "dtypes: int64(1), object(2)\n",
      "memory usage: 228.5+ KB\n"
     ]
    }
   ],
   "source": [
    "movies_df.info()"
   ]
  },
  {
   "cell_type": "code",
   "execution_count": 4,
   "metadata": {},
   "outputs": [
    {
     "name": "stdout",
     "output_type": "stream",
     "text": [
      "<class 'pandas.core.frame.DataFrame'>\n",
      "RangeIndex: 100836 entries, 0 to 100835\n",
      "Data columns (total 4 columns):\n",
      " #   Column     Non-Null Count   Dtype  \n",
      "---  ------     --------------   -----  \n",
      " 0   userId     100836 non-null  int64  \n",
      " 1   movieId    100836 non-null  int64  \n",
      " 2   rating     100836 non-null  float64\n",
      " 3   timestamp  100836 non-null  int64  \n",
      "dtypes: float64(1), int64(3)\n",
      "memory usage: 3.1 MB\n"
     ]
    }
   ],
   "source": [
    "ratings_df.info()"
   ]
  },
  {
   "cell_type": "code",
   "execution_count": 5,
   "metadata": {},
   "outputs": [
    {
     "data": {
      "text/plain": [
       "(610, 9724)"
      ]
     },
     "execution_count": 5,
     "metadata": {},
     "output_type": "execute_result"
    }
   ],
   "source": [
    "from sklearn.model_selection import train_test_split\n",
    "from sklearn.preprocessing import LabelEncoder\n",
    "\n",
    "# Encode user IDs and movie IDs to create compact indices\n",
    "user_encoder = LabelEncoder()\n",
    "movie_encoder = LabelEncoder()\n",
    "\n",
    "ratings_df['user'] = user_encoder.fit_transform(ratings_df['userId'])\n",
    "ratings_df['movie'] = movie_encoder.fit_transform(ratings_df['movieId'])\n",
    "\n",
    "# Prepare the features (user, movie) and target (rating)\n",
    "X = ratings_df[['user', 'movie']].values\n",
    "y = ratings_df['rating'].values\n",
    "\n",
    "# Split the data into training and testing sets\n",
    "X_train, X_test, y_train, y_test = train_test_split(X, y, test_size=0.2, random_state=42)\n",
    "\n",
    "# Number of unique users and movies\n",
    "num_users = ratings_df['user'].nunique()\n",
    "num_movies = ratings_df['movie'].nunique()\n",
    "\n",
    "num_users, num_movies"
   ]
  },
  {
   "cell_type": "code",
   "execution_count": 6,
   "metadata": {},
   "outputs": [
    {
     "name": "stdout",
     "output_type": "stream",
     "text": [
      "WARNING:tensorflow:From c:\\Users\\kimch\\AppData\\Local\\Programs\\Python\\Python311\\Lib\\site-packages\\keras\\src\\losses.py:2976: The name tf.losses.sparse_softmax_cross_entropy is deprecated. Please use tf.compat.v1.losses.sparse_softmax_cross_entropy instead.\n",
      "\n",
      "WARNING:tensorflow:From c:\\Users\\kimch\\AppData\\Local\\Programs\\Python\\Python311\\Lib\\site-packages\\keras\\src\\backend.py:1398: The name tf.executing_eagerly_outside_functions is deprecated. Please use tf.compat.v1.executing_eagerly_outside_functions instead.\n",
      "\n",
      "Model: \"model\"\n",
      "__________________________________________________________________________________________________\n",
      " Layer (type)                Output Shape                 Param #   Connected to                  \n",
      "==================================================================================================\n",
      " user_input (InputLayer)     [(None, 1)]                  0         []                            \n",
      "                                                                                                  \n",
      " movie_input (InputLayer)    [(None, 1)]                  0         []                            \n",
      "                                                                                                  \n",
      " user_embedding (Embedding)  (None, 1, 50)                30500     ['user_input[0][0]']          \n",
      "                                                                                                  \n",
      " movie_embedding (Embedding  (None, 1, 50)                486200    ['movie_input[0][0]']         \n",
      " )                                                                                                \n",
      "                                                                                                  \n",
      " flatten_users (Flatten)     (None, 50)                   0         ['user_embedding[0][0]']      \n",
      "                                                                                                  \n",
      " flatten_movies (Flatten)    (None, 50)                   0         ['movie_embedding[0][0]']     \n",
      "                                                                                                  \n",
      " concatenate (Concatenate)   (None, 100)                  0         ['flatten_users[0][0]',       \n",
      "                                                                     'flatten_movies[0][0]']      \n",
      "                                                                                                  \n",
      " dense (Dense)               (None, 128)                  12928     ['concatenate[0][0]']         \n",
      "                                                                                                  \n",
      " dropout (Dropout)           (None, 128)                  0         ['dense[0][0]']               \n",
      "                                                                                                  \n",
      " dense_1 (Dense)             (None, 64)                   8256      ['dropout[0][0]']             \n",
      "                                                                                                  \n",
      " dropout_1 (Dropout)         (None, 64)                   0         ['dense_1[0][0]']             \n",
      "                                                                                                  \n",
      " dense_2 (Dense)             (None, 1)                    65        ['dropout_1[0][0]']           \n",
      "                                                                                                  \n",
      "==================================================================================================\n",
      "Total params: 537949 (2.05 MB)\n",
      "Trainable params: 537949 (2.05 MB)\n",
      "Non-trainable params: 0 (0.00 Byte)\n",
      "__________________________________________________________________________________________________\n"
     ]
    }
   ],
   "source": [
    "import tensorflow as tf\n",
    "from tensorflow.keras.models import Model\n",
    "from tensorflow.keras.layers import Embedding, Flatten, Input, Concatenate, Dense, Dropout\n",
    "from tensorflow.keras.optimizers import Adam\n",
    "\n",
    "def build_model(num_users, num_movies, embedding_size=50):\n",
    "    # Inputs\n",
    "    user_input = Input(shape=(1,), name='user_input')\n",
    "    movie_input = Input(shape=(1,), name='movie_input')\n",
    "    \n",
    "    # User embedding\n",
    "    user_embedding = Embedding(input_dim=num_users, output_dim=embedding_size, name='user_embedding')(user_input)\n",
    "    user_vec = Flatten(name='flatten_users')(user_embedding)\n",
    "    \n",
    "    # Movie embedding\n",
    "    movie_embedding = Embedding(input_dim=num_movies, output_dim=embedding_size, name='movie_embedding')(movie_input)\n",
    "    movie_vec = Flatten(name='flatten_movies')(movie_embedding)\n",
    "    \n",
    "    # Concatenate the flattened embedding layers\n",
    "    concat = Concatenate()([user_vec, movie_vec])\n",
    "    \n",
    "    # Dense layers\n",
    "    dense = Dense(128, activation='relu')(concat)\n",
    "    dense = Dropout(0.5)(dense)\n",
    "    dense = Dense(64, activation='relu')(dense)\n",
    "    dense = Dropout(0.5)(dense)\n",
    "    \n",
    "    # Output layer\n",
    "    output = Dense(1)(dense)\n",
    "    \n",
    "    # Model\n",
    "    model = Model(inputs=[user_input, movie_input], outputs=output)\n",
    "    \n",
    "    return model\n",
    "\n",
    "# Build the model\n",
    "embedding_size = 50\n",
    "model = build_model(num_users, num_movies, embedding_size)\n",
    "\n",
    "# Compile the model\n",
    "# model.compile(optimizer=Adam(learning_rate=0.001), loss='mean_squared_error')\n",
    "model.compile(optimizer=Adam(learning_rate=0.001), loss='mean_squared_error', metrics=['mae'])\n",
    "\n",
    "\n",
    "model.summary()"
   ]
  },
  {
   "cell_type": "code",
   "execution_count": 7,
   "metadata": {},
   "outputs": [
    {
     "name": "stdout",
     "output_type": "stream",
     "text": [
      "Epoch 1/5\n",
      "WARNING:tensorflow:From c:\\Users\\kimch\\AppData\\Local\\Programs\\Python\\Python311\\Lib\\site-packages\\keras\\src\\utils\\tf_utils.py:492: The name tf.ragged.RaggedTensorValue is deprecated. Please use tf.compat.v1.ragged.RaggedTensorValue instead.\n",
      "\n",
      "WARNING:tensorflow:From c:\\Users\\kimch\\AppData\\Local\\Programs\\Python\\Python311\\Lib\\site-packages\\keras\\src\\engine\\base_layer_utils.py:384: The name tf.executing_eagerly_outside_functions is deprecated. Please use tf.compat.v1.executing_eagerly_outside_functions instead.\n",
      "\n",
      "2269/2269 [==============================] - 16s 6ms/step - loss: 1.4165 - mae: 0.9265 - val_loss: 0.8242 - val_mae: 0.7127\n",
      "Epoch 2/5\n",
      "2269/2269 [==============================] - 14s 6ms/step - loss: 0.9749 - mae: 0.7792 - val_loss: 0.7989 - val_mae: 0.6985\n",
      "Epoch 3/5\n",
      "2269/2269 [==============================] - 19s 8ms/step - loss: 0.8352 - mae: 0.7153 - val_loss: 0.7785 - val_mae: 0.6805\n",
      "Epoch 4/5\n",
      "2269/2269 [==============================] - 18s 8ms/step - loss: 0.7382 - mae: 0.6669 - val_loss: 0.7656 - val_mae: 0.6769\n",
      "Epoch 5/5\n",
      "2269/2269 [==============================] - 33s 15ms/step - loss: 0.6809 - mae: 0.6368 - val_loss: 0.7677 - val_mae: 0.6764\n"
     ]
    }
   ],
   "source": [
    "history = model.fit([X_train[:, 0], X_train[:, 1]], y_train, batch_size=32, epochs=5, validation_split=0.1)"
   ]
  },
  {
   "cell_type": "code",
   "execution_count": 8,
   "metadata": {},
   "outputs": [
    {
     "name": "stdout",
     "output_type": "stream",
     "text": [
      "631/631 [==============================] - 2s 4ms/step - loss: 0.7695 - mae: 0.6733\n"
     ]
    }
   ],
   "source": [
    "test_loss = model.evaluate([X_test[:, 0], X_test[:, 1]], y_test)"
   ]
  },
  {
   "cell_type": "code",
   "execution_count": 9,
   "metadata": {},
   "outputs": [
    {
     "data": {
      "image/png": "[encoded data removed]",
      "text/plain": [
       "<Figure size 1000x400 with 2 Axes>"
      ]
     },
     "metadata": {},
     "output_type": "display_data"
    }
   ],
   "source": [
    "import matplotlib.pyplot as plt\n",
    "\n",
    "# Assuming 'history' is the result of your model.fit() call\n",
    "# Plot training & validation loss values\n",
    "plt.figure(figsize=(10, 4))\n",
    "plt.subplot(1, 2, 1)\n",
    "plt.plot(history.history['loss'], label='Train')\n",
    "plt.plot(history.history['val_loss'], label='Validation')\n",
    "plt.title('Model loss')\n",
    "plt.ylabel('Loss')\n",
    "plt.xlabel('Epoch')\n",
    "plt.legend(loc='upper right')\n",
    "\n",
    "# Plot training & validation MAE\n",
    "plt.subplot(1, 2, 2)\n",
    "plt.plot(history.history['mae'], label='Train MAE')\n",
    "plt.plot(history.history['val_mae'], label='Validation MAE')\n",
    "plt.title('Model MAE')\n",
    "plt.ylabel('Mean Absolute Error')\n",
    "plt.xlabel('Epoch')\n",
    "plt.legend(loc='upper right')\n",
    "\n",
    "plt.tight_layout()\n",
    "plt.show()"
   ]
  },
  {
   "cell_type": "code",
   "execution_count": 10,
   "metadata": {},
   "outputs": [
    {
     "name": "stdout",
     "output_type": "stream",
     "text": [
      "1/1 [==============================] - 0s 305ms/step\n",
      "Predicted rating: 4.064578533172607\n"
     ]
    }
   ],
   "source": [
    "def predict_rating(user_id, movie_id):\n",
    "    # Convert user_id and movie_id to the model's expected input format\n",
    "    user_id_encoded = user_encoder.transform([user_id])\n",
    "    movie_id_encoded = movie_encoder.transform([movie_id])\n",
    "    \n",
    "    # Model prediction\n",
    "    predicted_rating = model.predict([user_id_encoded, movie_id_encoded])\n",
    "    \n",
    "    return predicted_rating[0][0]\n",
    "\n",
    "# Example: Predict the rating for user with ID 1 and movie with ID 10\n",
    "predicted_rating = predict_rating(user_id=1, movie_id=10)\n",
    "print(f\"Predicted rating: {predicted_rating}\")\n"
   ]
  },
  {
   "cell_type": "code",
   "execution_count": 11,
   "metadata": {},
   "outputs": [
    {
     "name": "stdout",
     "output_type": "stream",
     "text": [
      "297/297 [==============================] - 1s 2ms/step\n",
      "      movieId                                title\n",
      "895      1192              Paris Is Burning (1990)\n",
      "1111     1446                 Kolya (Kolja) (1996)\n",
      "2582     3451  Guess Who's Coming to Dinner (1967)\n",
      "3505     4789       Phantom of the Paradise (1974)\n",
      "4396     6460       Trial, The (Procès, Le) (1962)\n"
     ]
    }
   ],
   "source": [
    "import numpy as np\n",
    "\n",
    "def recommend_movies(user_id, num_recommendations=5):\n",
    "    # Handle case where the user ID is not seen during training\n",
    "    if user_id not in user_encoder.classes_:\n",
    "        print(\"User ID not seen during training. Returning highest rated movies.\")\n",
    "        # This could be replaced with a more sophisticated approach for new users\n",
    "        return movies_df.sample(n=num_recommendations)\n",
    "    \n",
    "    # Encode the user ID\n",
    "    user_id_encoded = user_encoder.transform([user_id])\n",
    "    \n",
    "    # Movies not rated by the user\n",
    "    user_rated_movies = ratings_df[ratings_df['userId'] == user_id]['movieId']\n",
    "    movies_not_rated = movies_df[~movies_df['movieId'].isin(user_rated_movies)]['movieId']\n",
    "    \n",
    "    # Filter for movies that are known to the model\n",
    "    known_movies = movies_not_rated[movies_not_rated.apply(lambda x: x in movie_encoder.classes_)]\n",
    "    \n",
    "    if known_movies.empty:\n",
    "        print(\"No known movies to recommend for this user.\")\n",
    "        return pd.DataFrame()\n",
    "    \n",
    "    # Encode the movie IDs\n",
    "    movies_not_rated_encoded = movie_encoder.transform(known_movies)\n",
    "    \n",
    "    # Predict ratings\n",
    "    predictions = model.predict([np.array([user_id_encoded] * len(known_movies)), movies_not_rated_encoded])\n",
    "    \n",
    "    # Get the top N recommendations\n",
    "    top_indices = predictions.flatten().argsort()[-num_recommendations:][::-1]\n",
    "    recommended_movie_ids = known_movies.values[top_indices]\n",
    "    \n",
    "    # Get movie titles\n",
    "    recommended_movies = movies_df[movies_df['movieId'].isin(recommended_movie_ids)]\n",
    "    \n",
    "    return recommended_movies\n",
    "\n",
    "\n",
    "# Example: Recommend 5 movies for user with ID 1\n",
    "recommendations = recommend_movies(user_id=1, num_recommendations=5)\n",
    "print(recommendations[['movieId', 'title']])"
   ]
  }
 ],
 "metadata": {
  "kernelspec": {
   "display_name": "Python 3",
   "language": "python",
   "name": "python3"
  },
  "language_info": {
   "codemirror_mode": {
    "name": "ipython",
    "version": 3
   },
   "file_extension": ".py",
   "mimetype": "text/x-python",
   "name": "python",
   "nbconvert_exporter": "python",
   "pygments_lexer": "ipython3",
   "version": "3.11.8"
  }
 },
 "nbformat": 4,
 "nbformat_minor": 2
}
